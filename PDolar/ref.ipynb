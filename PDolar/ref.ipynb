{
 "cells": [
  {
   "cell_type": "code",
   "execution_count": 1,
   "metadata": {},
   "outputs": [
    {
     "name": "stdout",
     "output_type": "stream",
     "text": [
      "local\n",
      "Sunat\n",
      "3.780\n",
      "0.00\n",
      "3.789\n",
      "0.00\n"
     ]
    }
   ],
   "source": [
    "from selenium import webdriver\n",
    "import time, pandas as pd, numpy as np, os\n",
    "from selenium.webdriver.common.by import By\n",
    "\n",
    "from dotenv import load_dotenv\n",
    "\n",
    "load_dotenv()\n",
    "\n",
    "\n",
    "local = os.environ.get(\"RUN\")\n",
    "print(local)\n",
    "\n",
    "from local import options\n",
    "\n",
    "\n",
    "MAIN_URL  = 'https://cuantoestaeldolar.pe'\n",
    "\n",
    "\n",
    "if local == 'local':\n",
    "    driver = webdriver.Chrome()\n",
    "else:\n",
    "    driver = webdriver.Chrome(options=options)\n",
    "\n",
    "driver.get(MAIN_URL)\n",
    "\n",
    "# sunat\n",
    "\n",
    "a = driver.find_element(By.XPATH, '//*[@id=\"converter\"]/div/div[2]/div[1]')\n",
    "\n",
    "print(a.text)\n",
    "# firsm"
   ]
  },
  {
   "cell_type": "code",
   "execution_count": 2,
   "metadata": {},
   "outputs": [],
   "source": [
    "import numpy as np"
   ]
  },
  {
   "cell_type": "code",
   "execution_count": 3,
   "metadata": {},
   "outputs": [],
   "source": [
    "div_elements = driver.find_elements(By.CSS_SELECTOR, \"div.flex.my-auto a\")\n",
    "\n",
    "# Itera sobre los elementos encontrados y extrae el atributo href de cada uno\n",
    "hrefs = [element.get_attribute(\"href\") for element in div_elements]"
   ]
  },
  {
   "cell_type": "code",
   "execution_count": 4,
   "metadata": {},
   "outputs": [
    {
     "name": "stdout",
     "output_type": "stream",
     "text": [
      "Texto numérico: \n"
     ]
    }
   ],
   "source": [
    "texto_numerico_element = driver.find_element(By.CSS_SELECTOR, 'p.ValueQuotation_text___mR_0')\n",
    "texto_numerico = texto_numerico_element.text.strip()\n",
    "print(\"Texto numérico:\", texto_numerico)"
   ]
  },
  {
   "cell_type": "code",
   "execution_count": 5,
   "metadata": {},
   "outputs": [],
   "source": [
    "# left div\n",
    "range_left = list(range(26, 38))\n",
    "range_right = list(range(2, 14))\n",
    "\n",
    "# a\n",
    "a= '//*[@id=\"__next\"]/main/div[3]/div[5]/div/div[1]/div[26]/div[1]/div[3]/a'\n",
    "# //*[@id=\"__next\"]/main/div[3]/div[5]/div/div[1]/div[37]/div[1]/div[3]/a\n",
    "\n",
    "# //*[@id=\"__next\"]/main/div[3]/div[5]/div/div[2]/div[2]/div[1]/div[3]/a\n",
    "# //*[@id=\"__next\"]/main/div[3]/div[5]/div/div[2]/div[13]/div[1]/div[3]/a\n",
    "\n",
    "\n",
    "\n",
    "left_divs = [\n",
    "    f'//*[@id=\"__next\"]/main/div[3]/div[5]/div/div[1]/div[{n}]/div[1]'\n",
    "    for n in range_left\n",
    "]\n",
    "left_img = [\n",
    "    f'//*[@id=\"__next\"]/main/div[3]/div[5]/div/div[1]/div[{n}]/div[1]/div[1]/span/img'\n",
    "    for n in range_left\n",
    "]\n",
    "\n",
    "left_a = [\n",
    "    f'//*[@id=\"__next\"]/main/div[3]/div[5]/div/div[1]/div[{n}]/div[1]/div[3]/a'\n",
    "    for n in range_left\n",
    "]\n",
    "\n",
    "\n",
    "\n",
    "right_divs = [\n",
    "    f'//*[@id=\"__next\"]/main/div[3]/div[5]/div/div[2]/div[{n}]/div[1]'\n",
    "    for n in range_right\n",
    "]\n",
    "right_img = [\n",
    "    f'//*[@id=\"__next\"]/main/div[3]/div[5]/div/div[2]/div[{n}]/div[1]/div[1]/span/img'\n",
    "    for n in range_right\n",
    "]\n",
    "\n",
    "right_a = [\n",
    "    f'//*[@id=\"__next\"]/main/div[3]/div[5]/div/div[2]/div[{n}]/div[1]/div[3]/a'\n",
    "    for n in range_right\n",
    "]\n",
    "\n",
    "\n",
    "divs = left_divs + right_divs\n",
    "imgs = left_img + right_img\n",
    "a_s = left_a + right_a"
   ]
  },
  {
   "cell_type": "code",
   "execution_count": 12,
   "metadata": {},
   "outputs": [
    {
     "data": {
      "text/html": [
       "<div>\n",
       "<style scoped>\n",
       "    .dataframe tbody tr th:only-of-type {\n",
       "        vertical-align: middle;\n",
       "    }\n",
       "\n",
       "    .dataframe tbody tr th {\n",
       "        vertical-align: top;\n",
       "    }\n",
       "\n",
       "    .dataframe thead th {\n",
       "        text-align: right;\n",
       "    }\n",
       "</style>\n",
       "<table border=\"1\" class=\"dataframe\">\n",
       "  <thead>\n",
       "    <tr style=\"text-align: right;\">\n",
       "      <th></th>\n",
       "      <th>trash</th>\n",
       "      <th>compra</th>\n",
       "      <th>compra_cambio</th>\n",
       "      <th>venta</th>\n",
       "      <th>venta_cambio</th>\n",
       "      <th>url_img</th>\n",
       "      <th>url</th>\n",
       "      <th>dominio</th>\n",
       "    </tr>\n",
       "  </thead>\n",
       "  <tbody>\n",
       "    <tr>\n",
       "      <th>19</th>\n",
       "      <td>Cambiar</td>\n",
       "      <td>3.800</td>\n",
       "      <td>0.00</td>\n",
       "      <td>3.820</td>\n",
       "      <td>0.00</td>\n",
       "      <td>https://s3-ced-uploads-01.s3.amazonaws.com/171...</td>\n",
       "      <td>https://perudolar.pe/?utm_source=ced&amp;utm_mediu...</td>\n",
       "      <td>perudolar</td>\n",
       "    </tr>\n",
       "    <tr>\n",
       "      <th>11</th>\n",
       "      <td>Cambiar</td>\n",
       "      <td>0.000</td>\n",
       "      <td>-3.795</td>\n",
       "      <td>0.000</td>\n",
       "      <td>-3.828</td>\n",
       "      <td>https://s3-ced-uploads-01.s3.amazonaws.com/170...</td>\n",
       "      <td>https://cambiomas.com.pe/?utm_source=ced</td>\n",
       "      <td>cambiomas</td>\n",
       "    </tr>\n",
       "  </tbody>\n",
       "</table>\n",
       "</div>"
      ],
      "text/plain": [
       "      trash compra compra_cambio  venta venta_cambio  \\\n",
       "19  Cambiar  3.800          0.00  3.820         0.00   \n",
       "11  Cambiar  0.000        -3.795  0.000       -3.828   \n",
       "\n",
       "                                              url_img  \\\n",
       "19  https://s3-ced-uploads-01.s3.amazonaws.com/171...   \n",
       "11  https://s3-ced-uploads-01.s3.amazonaws.com/170...   \n",
       "\n",
       "                                                  url    dominio  \n",
       "19  https://perudolar.pe/?utm_source=ced&utm_mediu...  perudolar  \n",
       "11           https://cambiomas.com.pe/?utm_source=ced  cambiomas  "
      ]
     },
     "execution_count": 12,
     "metadata": {},
     "output_type": "execute_result"
    }
   ],
   "source": [
    "def extract_info_div(\n",
    "        text_path, img, url\n",
    "):\n",
    "    dolar = driver.find_element(By.XPATH, text_path).text.split(\"\\n\")\n",
    "    source_img = driver.find_element(By.XPATH, img).get_attribute(\"src\")\n",
    "    url_ref = driver.find_element(By.XPATH, url).get_attribute(\"href\")\n",
    "    return dolar + [source_img, url_ref]\n",
    "import pandas as pd\n",
    "a= [\n",
    "    extract_info_div(t, i, u) \n",
    "    for t, i, u in zip(divs, imgs, a_s)\n",
    "]\n",
    "import re\n",
    "def extract_domain(url):\n",
    "    match = re.search(r'https?://(www\\.)?([^/]+)', url)\n",
    "    if match:\n",
    "        domain = match.group(2).split('.')[0]\n",
    "        return domain\n",
    "    return None\n",
    "data = pd.DataFrame(a, columns = ['trash', 'compra', 'compra_cambio', 'venta', 'venta_cambio', 'url_img', 'url'])\n",
    "data['dominio'] = data['url'].apply(extract_domain)\n",
    "data.sample(2)"
   ]
  },
  {
   "cell_type": "code",
   "execution_count": 13,
   "metadata": {},
   "outputs": [],
   "source": [
    "html = driver.page_source"
   ]
  },
  {
   "cell_type": "code",
   "execution_count": 14,
   "metadata": {},
   "outputs": [],
   "source": [
    "from bs4 import BeautifulSoup\n",
    "soup = BeautifulSoup(html, 'html.parser')"
   ]
  },
  {
   "cell_type": "code",
   "execution_count": 15,
   "metadata": {},
   "outputs": [
    {
     "name": "stdout",
     "output_type": "stream",
     "text": [
      "[{'img_url': 'data:image/svg+xml,%3csvg%20xmlns=%27http://www.w3.org/2000/svg%27%20version=%271.1%27%20width=%27100%27%20height=%2730%27/%3e', 'compra': '3.729', 'venta': '3.901'}, {'img_url': 'data:image/svg+xml,%3csvg%20xmlns=%27http://www.w3.org/2000/svg%27%20version=%271.1%27%20width=%27100%27%20height=%2730%27/%3e', 'compra': '3.725', 'venta': '3.860'}, {'img_url': 'data:image/svg+xml,%3csvg%20xmlns=%27http://www.w3.org/2000/svg%27%20version=%271.1%27%20width=%2780%27%20height=%2730%27/%3e', 'compra': '3.721', 'venta': '3.901'}]\n"
     ]
    }
   ],
   "source": [
    "\n",
    "data = []\n",
    "\n",
    "# Encontrar todos los bloques que contienen la información\n",
    "blocks = soup.find_all('div', class_='flex py-4 justify-between h-[72px]')\n",
    "\n",
    "for block in blocks:\n",
    "    img_tag = block.find('img', alt=True)\n",
    "    img_url = img_tag['src'] if img_tag else None\n",
    "\n",
    "    values = block.find_all('p', class_='text-2xl md:w-40 flex justify-end')\n",
    "    if len(values) >= 2:\n",
    "        compra = values[0].text\n",
    "        venta = values[1].text\n",
    "    else:\n",
    "        compra = None\n",
    "        venta = None\n",
    "\n",
    "    data.append({\n",
    "        'img_url': img_url,\n",
    "        'compra': compra,\n",
    "        'venta': venta\n",
    "    })\n",
    "\n",
    "print(data)"
   ]
  },
  {
   "cell_type": "code",
   "execution_count": 16,
   "metadata": {},
   "outputs": [
    {
     "data": {
      "text/html": [
       "<div>\n",
       "<style scoped>\n",
       "    .dataframe tbody tr th:only-of-type {\n",
       "        vertical-align: middle;\n",
       "    }\n",
       "\n",
       "    .dataframe tbody tr th {\n",
       "        vertical-align: top;\n",
       "    }\n",
       "\n",
       "    .dataframe thead th {\n",
       "        text-align: right;\n",
       "    }\n",
       "</style>\n",
       "<table border=\"1\" class=\"dataframe\">\n",
       "  <thead>\n",
       "    <tr style=\"text-align: right;\">\n",
       "      <th></th>\n",
       "      <th>img_url</th>\n",
       "      <th>compra</th>\n",
       "      <th>venta</th>\n",
       "    </tr>\n",
       "  </thead>\n",
       "  <tbody>\n",
       "    <tr>\n",
       "      <th>0</th>\n",
       "      <td>data:image/svg+xml,%3csvg%20xmlns=%27http://ww...</td>\n",
       "      <td>3.729</td>\n",
       "      <td>3.901</td>\n",
       "    </tr>\n",
       "    <tr>\n",
       "      <th>1</th>\n",
       "      <td>data:image/svg+xml,%3csvg%20xmlns=%27http://ww...</td>\n",
       "      <td>3.725</td>\n",
       "      <td>3.860</td>\n",
       "    </tr>\n",
       "    <tr>\n",
       "      <th>2</th>\n",
       "      <td>data:image/svg+xml,%3csvg%20xmlns=%27http://ww...</td>\n",
       "      <td>3.721</td>\n",
       "      <td>3.901</td>\n",
       "    </tr>\n",
       "  </tbody>\n",
       "</table>\n",
       "</div>"
      ],
      "text/plain": [
       "                                             img_url compra  venta\n",
       "0  data:image/svg+xml,%3csvg%20xmlns=%27http://ww...  3.729  3.901\n",
       "1  data:image/svg+xml,%3csvg%20xmlns=%27http://ww...  3.725  3.860\n",
       "2  data:image/svg+xml,%3csvg%20xmlns=%27http://ww...  3.721  3.901"
      ]
     },
     "execution_count": 16,
     "metadata": {},
     "output_type": "execute_result"
    }
   ],
   "source": [
    "pd.DataFrame(data)"
   ]
  }
 ],
 "metadata": {
  "kernelspec": {
   "display_name": "track_dolar-yWpBW4Lx",
   "language": "python",
   "name": "python3"
  },
  "language_info": {
   "codemirror_mode": {
    "name": "ipython",
    "version": 3
   },
   "file_extension": ".py",
   "mimetype": "text/x-python",
   "name": "python",
   "nbconvert_exporter": "python",
   "pygments_lexer": "ipython3",
   "version": "3.10.9"
  }
 },
 "nbformat": 4,
 "nbformat_minor": 2
}
